{
 "cells": [
  {
   "cell_type": "markdown",
   "id": "c070da20",
   "metadata": {},
   "source": [
    "### Exercise - Data Analysis for Vacation Planning\n",
    "\n",
    "You're planning a vacation, and you need to decide which city you want to visit. You have shortlisted four cities and identified the return flight cost, daily hotel cost, and weekly car rental cost. While renting a car, you need to pay for entire weeks, even if you return the car sooner.\n",
    "\n",
    "\n",
    "| City | Return Flight (`$`) | Hotel per day (`$`) | Weekly Car Rental  (`$`) | \n",
    "|------|--------------------------|------------------|------------------------|\n",
    "| Paris|       200                |       20         |          200           |\n",
    "| London|      250                |       30         |          120           |\n",
    "| Dubai|       370                |       15         |          80           |\n",
    "| Mumbai|      450                |       10         |          70           |         \n",
    "\n",
    "\n",
    "Answer the following questions using the data above:\n",
    "\n",
    "1. If you're planning a 1-week long trip, which city should you visit to spend the least amount of money?\n",
    "2. How does the answer to the previous question change if you change the trip's duration to four days, ten days or two weeks?\n",
    "3. If your total budget for the trip is `$600`, which city should you visit to maximize the duration of your trip? Which city should you visit if you want to minimize the duration?\n",
    "4. How does the answer to the previous question change if your budget is `$1000`, `$2000`, or `$1500`?\n",
    "\n",
    "*Hint: To answer these questions, it will help to define a function `cost_of_trip` with relevant inputs like flight cost, hotel rate, car rental rate, and duration of the trip. You may find the `math.ceil` function useful for calculating the total cost of car rental.*"
   ]
  },
  {
   "cell_type": "code",
   "execution_count": 17,
   "id": "c533f11e",
   "metadata": {},
   "outputs": [],
   "source": [
    "import math\n",
    "import sys"
   ]
  },
  {
   "cell_type": "code",
   "execution_count": 18,
   "id": "a64b2112",
   "metadata": {},
   "outputs": [],
   "source": [
    "data = {\n",
    "    'paris' : [200, 20, 200, 'Paris'],\n",
    "    'london' : [250, 30, 120, 'London'],\n",
    "    'dubai' : [370, 15, 80, 'Dubai'],\n",
    "    'mumbai' : [450, 10, 70, 'Mumbai'],\n",
    "}"
   ]
  },
  {
   "cell_type": "code",
   "execution_count": 19,
   "id": "f762bb7b",
   "metadata": {},
   "outputs": [],
   "source": [
    "def costOfTrip(city, numOfDays):\n",
    "    cost = data[city][0] + (data[city][1] * numOfDays) + (data[city][2] * math.ceil(numOfDays/7))\n",
    "    return cost"
   ]
  },
  {
   "cell_type": "code",
   "execution_count": 31,
   "id": "fb85f126",
   "metadata": {},
   "outputs": [],
   "source": [
    "def daysOfVisit(days):\n",
    "    minCost = sys.maxsize\n",
    "    budgetCity = \"\"\n",
    "    for city in data:\n",
    "        cost = costOfTrip(city, days)\n",
    "        if cost < minCost:\n",
    "            minCost = cost\n",
    "            budgetCity = city\n",
    "    return {minCost, budgetCity}"
   ]
  },
  {
   "cell_type": "markdown",
   "id": "10818af8",
   "metadata": {},
   "source": [
    "1. If you're planning a 1-week long trip, which city should you visit to spend the least amount of money?"
   ]
  },
  {
   "cell_type": "code",
   "execution_count": 21,
   "id": "3ed8df67",
   "metadata": {
    "scrolled": true
   },
   "outputs": [
    {
     "data": {
      "text/plain": [
       "{540, 'paris'}"
      ]
     },
     "execution_count": 21,
     "metadata": {},
     "output_type": "execute_result"
    }
   ],
   "source": [
    "daysOfVisit(7)"
   ]
  },
  {
   "cell_type": "markdown",
   "id": "27ca40ab",
   "metadata": {},
   "source": [
    "2. How does the answer to the previous question change if you change the trip's duration to four days, ten days or two weeks?"
   ]
  },
  {
   "cell_type": "code",
   "execution_count": 22,
   "id": "136bc93a",
   "metadata": {},
   "outputs": [
    {
     "data": {
      "text/plain": [
       "{480, 'paris'}"
      ]
     },
     "execution_count": 22,
     "metadata": {},
     "output_type": "execute_result"
    }
   ],
   "source": [
    "daysOfVisit(4)"
   ]
  },
  {
   "cell_type": "code",
   "execution_count": 23,
   "id": "20be0151",
   "metadata": {},
   "outputs": [
    {
     "data": {
      "text/plain": [
       "{680, 'dubai'}"
      ]
     },
     "execution_count": 23,
     "metadata": {},
     "output_type": "execute_result"
    }
   ],
   "source": [
    "daysOfVisit(10)"
   ]
  },
  {
   "cell_type": "code",
   "execution_count": 24,
   "id": "68e22a53",
   "metadata": {
    "slideshow": {
     "slide_type": "slide"
    }
   },
   "outputs": [
    {
     "data": {
      "text/plain": [
       "{730, 'mumbai'}"
      ]
     },
     "execution_count": 24,
     "metadata": {},
     "output_type": "execute_result"
    }
   ],
   "source": [
    "daysOfVisit(14)"
   ]
  },
  {
   "cell_type": "markdown",
   "id": "1a658265",
   "metadata": {},
   "source": [
    "3. If your total budget for the trip is $600, which city should you visit to maximize the duration of your trip? Which city should you visit if you want to minimize the duration?"
   ]
  },
  {
   "cell_type": "code",
   "execution_count": 27,
   "id": "77f72629",
   "metadata": {},
   "outputs": [],
   "source": [
    "def givenBudget(budget, less = False):\n",
    "    days = 1\n",
    "    cost = 0\n",
    "    while cost < budget:\n",
    "        costBefore = cost\n",
    "        try:\n",
    "            costsBefore = costs.copy()\n",
    "        except:\n",
    "            costsBefore = {}\n",
    "        costs = {}\n",
    "        for city in data:\n",
    "            cost = costOfTrip(city,days)\n",
    "            costs[cost] = data[city][3]\n",
    "        if less:\n",
    "            cost = max(list(costs.keys()))\n",
    "            if cost >= budget:\n",
    "                return costsBefore[costBefore], days-1\n",
    "        else:\n",
    "            cost = min(list(costs.keys()))\n",
    "            if cost >= budget:\n",
    "                return costsBefore[costBefore], days-1\n",
    "        days += 1"
   ]
  },
  {
   "cell_type": "code",
   "execution_count": 28,
   "id": "b60215f0",
   "metadata": {},
   "outputs": [
    {
     "data": {
      "text/plain": [
       "('Paris', 7)"
      ]
     },
     "execution_count": 28,
     "metadata": {},
     "output_type": "execute_result"
    }
   ],
   "source": [
    "givenBudget(600)"
   ]
  },
  {
   "cell_type": "code",
   "execution_count": 29,
   "id": "5a8c656e",
   "metadata": {},
   "outputs": [
    {
     "data": {
      "text/plain": [
       "('Mumbai', 7)"
      ]
     },
     "execution_count": 29,
     "metadata": {},
     "output_type": "execute_result"
    }
   ],
   "source": [
    "givenBudget(600,True)"
   ]
  },
  {
   "cell_type": "markdown",
   "id": "fb5ab982",
   "metadata": {},
   "source": [
    "4. How does the answer to the previous question change if your budget is `$1000`, `$2000`, or `$1500`?"
   ]
  },
  {
   "cell_type": "code",
   "execution_count": 38,
   "id": "48423f5f",
   "metadata": {},
   "outputs": [
    {
     "data": {
      "text/plain": [
       "('Mumbai', 26)"
      ]
     },
     "execution_count": 38,
     "metadata": {},
     "output_type": "execute_result"
    }
   ],
   "source": [
    "givenBudget(1000)"
   ]
  },
  {
   "cell_type": "code",
   "execution_count": 39,
   "id": "e573d02a",
   "metadata": {},
   "outputs": [
    {
     "data": {
      "text/plain": [
       "('London', 14)"
      ]
     },
     "execution_count": 39,
     "metadata": {},
     "output_type": "execute_result"
    }
   ],
   "source": [
    "givenBudget(1000,True)"
   ]
  },
  {
   "cell_type": "code",
   "execution_count": 40,
   "id": "2b486f3d",
   "metadata": {},
   "outputs": [
    {
     "data": {
      "text/plain": [
       "('Mumbai', 77)"
      ]
     },
     "execution_count": 40,
     "metadata": {},
     "output_type": "execute_result"
    }
   ],
   "source": [
    "givenBudget(2000)"
   ]
  },
  {
   "cell_type": "code",
   "execution_count": 41,
   "id": "b0d43108",
   "metadata": {},
   "outputs": [
    {
     "data": {
      "text/plain": [
       "('London', 35)"
      ]
     },
     "execution_count": 41,
     "metadata": {},
     "output_type": "execute_result"
    }
   ],
   "source": [
    "givenBudget(2000,True)"
   ]
  },
  {
   "cell_type": "code",
   "execution_count": 43,
   "id": "5397d9b4",
   "metadata": {},
   "outputs": [
    {
     "data": {
      "text/plain": [
       "('Mumbai', 49)"
      ]
     },
     "execution_count": 43,
     "metadata": {},
     "output_type": "execute_result"
    }
   ],
   "source": [
    "givenBudget(1500)"
   ]
  },
  {
   "cell_type": "code",
   "execution_count": 44,
   "id": "6af218dd",
   "metadata": {},
   "outputs": [
    {
     "data": {
      "text/plain": [
       "('Paris', 24)"
      ]
     },
     "execution_count": 44,
     "metadata": {},
     "output_type": "execute_result"
    }
   ],
   "source": [
    "givenBudget(1500, True)"
   ]
  }
 ],
 "metadata": {
  "kernelspec": {
   "display_name": "Python 3 (ipykernel)",
   "language": "python",
   "name": "python3"
  },
  "language_info": {
   "codemirror_mode": {
    "name": "ipython",
    "version": 3
   },
   "file_extension": ".py",
   "mimetype": "text/x-python",
   "name": "python",
   "nbconvert_exporter": "python",
   "pygments_lexer": "ipython3",
   "version": "3.10.9"
  }
 },
 "nbformat": 4,
 "nbformat_minor": 5
}
