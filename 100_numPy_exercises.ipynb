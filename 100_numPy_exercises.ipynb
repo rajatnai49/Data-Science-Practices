{
 "cells": [
  {
   "attachments": {},
   "cell_type": "markdown",
   "id": "1640863a",
   "metadata": {},
   "source": [
    "#### 1. Import the numpy package under the name np (★☆☆)"
   ]
  },
  {
   "cell_type": "code",
   "execution_count": 2,
   "id": "ee009b4a",
   "metadata": {},
   "outputs": [],
   "source": [
    "import numpy as np"
   ]
  },
  {
   "attachments": {},
   "cell_type": "markdown",
   "id": "fc68fce8",
   "metadata": {},
   "source": [
    "#### 2. Print the numpy version and the configuration (★☆☆)"
   ]
  },
  {
   "cell_type": "code",
   "execution_count": 3,
   "id": "4c8f6059",
   "metadata": {},
   "outputs": [
    {
     "name": "stdout",
     "output_type": "stream",
     "text": [
      "version 1.24.3\n"
     ]
    }
   ],
   "source": [
    "print(\"version\", np.__version__)\n",
    "# uncommnet below line for show configuration\n",
    "# np.show_config()"
   ]
  },
  {
   "attachments": {},
   "cell_type": "markdown",
   "id": "db8f22bf",
   "metadata": {},
   "source": [
    "#### 3. Create a null vector of size 10 (★☆☆)"
   ]
  },
  {
   "cell_type": "code",
   "execution_count": 4,
   "id": "676b0d14",
   "metadata": {},
   "outputs": [
    {
     "data": {
      "text/plain": [
       "array([0., 0., 0., 0., 0., 0., 0., 0., 0., 0.])"
      ]
     },
     "execution_count": 4,
     "metadata": {},
     "output_type": "execute_result"
    }
   ],
   "source": [
    "null_vector = np.zeros(10)\n",
    "null_vector"
   ]
  },
  {
   "attachments": {},
   "cell_type": "markdown",
   "id": "1cc11753",
   "metadata": {},
   "source": [
    "#### 4. How to find the memory size of any array (★☆☆)"
   ]
  },
  {
   "cell_type": "code",
   "execution_count": 5,
   "id": "97ac63a0",
   "metadata": {},
   "outputs": [
    {
     "data": {
      "text/plain": [
       "80"
      ]
     },
     "execution_count": 5,
     "metadata": {},
     "output_type": "execute_result"
    }
   ],
   "source": [
    "size = null_vector.nbytes\n",
    "size "
   ]
  },
  {
   "attachments": {},
   "cell_type": "markdown",
   "id": "123ac167",
   "metadata": {},
   "source": [
    "#### 5. How to get the documentation of the numpy add function from the command line? (★☆☆)"
   ]
  },
  {
   "cell_type": "code",
   "execution_count": 6,
   "id": "7f3c08f7",
   "metadata": {
    "scrolled": true
   },
   "outputs": [
    {
     "name": "stdout",
     "output_type": "stream",
     "text": [
      "Help on ufunc:\n",
      "\n",
      "add = <ufunc 'add'>\n",
      "    add(x1, x2, /, out=None, *, where=True, casting='same_kind', order='K', dtype=None, subok=True[, signature, extobj])\n",
      "    \n",
      "    Add arguments element-wise.\n",
      "    \n",
      "    Parameters\n",
      "    ----------\n",
      "    x1, x2 : array_like\n",
      "        The arrays to be added.\n",
      "        If ``x1.shape != x2.shape``, they must be broadcastable to a common\n",
      "        shape (which becomes the shape of the output).\n",
      "    out : ndarray, None, or tuple of ndarray and None, optional\n",
      "        A location into which the result is stored. If provided, it must have\n",
      "        a shape that the inputs broadcast to. If not provided or None,\n",
      "        a freshly-allocated array is returned. A tuple (possible only as a\n",
      "        keyword argument) must have length equal to the number of outputs.\n",
      "    where : array_like, optional\n",
      "        This condition is broadcast over the input. At locations where the\n",
      "        condition is True, the `out` array will be set to the ufunc result.\n",
      "        Elsewhere, the `out` array will retain its original value.\n",
      "        Note that if an uninitialized `out` array is created via the default\n",
      "        ``out=None``, locations within it where the condition is False will\n",
      "        remain uninitialized.\n",
      "    **kwargs\n",
      "        For other keyword-only arguments, see the\n",
      "        :ref:`ufunc docs <ufuncs.kwargs>`.\n",
      "    \n",
      "    Returns\n",
      "    -------\n",
      "    add : ndarray or scalar\n",
      "        The sum of `x1` and `x2`, element-wise.\n",
      "        This is a scalar if both `x1` and `x2` are scalars.\n",
      "    \n",
      "    Notes\n",
      "    -----\n",
      "    Equivalent to `x1` + `x2` in terms of array broadcasting.\n",
      "    \n",
      "    Examples\n",
      "    --------\n",
      "    >>> np.add(1.0, 4.0)\n",
      "    5.0\n",
      "    >>> x1 = np.arange(9.0).reshape((3, 3))\n",
      "    >>> x2 = np.arange(3.0)\n",
      "    >>> np.add(x1, x2)\n",
      "    array([[  0.,   2.,   4.],\n",
      "           [  3.,   5.,   7.],\n",
      "           [  6.,   8.,  10.]])\n",
      "    \n",
      "    The ``+`` operator can be used as a shorthand for ``np.add`` on ndarrays.\n",
      "    \n",
      "    >>> x1 = np.arange(9.0).reshape((3, 3))\n",
      "    >>> x2 = np.arange(3.0)\n",
      "    >>> x1 + x2\n",
      "    array([[ 0.,  2.,  4.],\n",
      "           [ 3.,  5.,  7.],\n",
      "           [ 6.,  8., 10.]])\n",
      "\n"
     ]
    }
   ],
   "source": [
    "help(np.add) \n",
    "#where add is a thing regarding which help you want like np.size etc"
   ]
  },
  {
   "attachments": {},
   "cell_type": "markdown",
   "id": "a41924fc",
   "metadata": {},
   "source": [
    "#### 6. Create a null vector of size 10 but the fifth value which is 1 (★☆☆)"
   ]
  },
  {
   "cell_type": "code",
   "execution_count": 7,
   "id": "b5622227",
   "metadata": {},
   "outputs": [
    {
     "data": {
      "text/plain": [
       "array([0., 0., 0., 0., 1., 0., 0., 0., 0., 0.])"
      ]
     },
     "execution_count": 7,
     "metadata": {},
     "output_type": "execute_result"
    }
   ],
   "source": [
    "vector = np.zeros(10)\n",
    "vector[4] = 1\n",
    "vector"
   ]
  },
  {
   "attachments": {},
   "cell_type": "markdown",
   "id": "f490ad95",
   "metadata": {},
   "source": [
    "#### 7. Create a vector with values ranging from 10 to 49 (★☆☆)"
   ]
  },
  {
   "cell_type": "code",
   "execution_count": 8,
   "id": "3f02cfe2",
   "metadata": {},
   "outputs": [
    {
     "data": {
      "text/plain": [
       "array([10, 11, 12, 13, 14, 15, 16, 17, 18, 19, 20, 21, 22, 23, 24, 25, 26,\n",
       "       27, 28, 29, 30, 31, 32, 33, 34, 35, 36, 37, 38, 39, 40, 41, 42, 43,\n",
       "       44, 45, 46, 47, 48, 49])"
      ]
     },
     "execution_count": 8,
     "metadata": {},
     "output_type": "execute_result"
    }
   ],
   "source": [
    "vector = np.arange(10,50)\n",
    "vector"
   ]
  },
  {
   "attachments": {},
   "cell_type": "markdown",
   "id": "4b11d63d",
   "metadata": {},
   "source": [
    "#### 8. Reverse a vector (first element becomes last) (★☆☆)"
   ]
  },
  {
   "cell_type": "code",
   "execution_count": 9,
   "id": "1181fa13",
   "metadata": {},
   "outputs": [
    {
     "data": {
      "text/plain": [
       "array([49, 48, 47, 46, 45, 44, 43, 42, 41, 40, 39, 38, 37, 36, 35, 34, 33,\n",
       "       32, 31, 30, 29, 28, 27, 26, 25, 24, 23, 22, 21, 20, 19, 18, 17, 16,\n",
       "       15, 14, 13, 12, 11, 10])"
      ]
     },
     "execution_count": 9,
     "metadata": {},
     "output_type": "execute_result"
    }
   ],
   "source": [
    "rev_vector = vector[::-1]\n",
    "# Other Way\n",
    "# rev_vector = np.flip(vector)\n",
    "rev_vector"
   ]
  },
  {
   "attachments": {},
   "cell_type": "markdown",
   "id": "1339330c",
   "metadata": {},
   "source": [
    "#### 9. Create a 3x3 matrix with values ranging from 0 to 8 (★☆☆)"
   ]
  },
  {
   "cell_type": "code",
   "execution_count": 10,
   "id": "9fc7e9ed",
   "metadata": {},
   "outputs": [
    {
     "data": {
      "text/plain": [
       "array([[0, 1, 2],\n",
       "       [3, 4, 5],\n",
       "       [6, 7, 8]])"
      ]
     },
     "execution_count": 10,
     "metadata": {},
     "output_type": "execute_result"
    }
   ],
   "source": [
    "matrix = np.arange(9).reshape(3,3)\n",
    "matrix"
   ]
  },
  {
   "attachments": {},
   "cell_type": "markdown",
   "id": "99cddfbb",
   "metadata": {},
   "source": [
    "#### 10. Find indices of non-zero elements from [1,2,0,0,4,0] (★☆☆)"
   ]
  },
  {
   "cell_type": "code",
   "execution_count": 11,
   "id": "33ffe3c0",
   "metadata": {},
   "outputs": [
    {
     "data": {
      "text/plain": [
       "(array([0, 1, 4], dtype=int64),)"
      ]
     },
     "execution_count": 11,
     "metadata": {},
     "output_type": "execute_result"
    }
   ],
   "source": [
    "v10 = np.array([1,2,0,0,4,0])\n",
    "indices = np.nonzero(v10)\n",
    "indices"
   ]
  },
  {
   "attachments": {},
   "cell_type": "markdown",
   "id": "06cf0ea2",
   "metadata": {},
   "source": [
    "#### 11. Create a 3x3 identity matrix (★☆☆)"
   ]
  },
  {
   "cell_type": "code",
   "execution_count": 12,
   "id": "99c3c259",
   "metadata": {},
   "outputs": [
    {
     "data": {
      "text/plain": [
       "array([[1., 0., 0.],\n",
       "       [0., 1., 0.],\n",
       "       [0., 0., 1.]])"
      ]
     },
     "execution_count": 12,
     "metadata": {},
     "output_type": "execute_result"
    }
   ],
   "source": [
    "vIde = np.eye(3)\n",
    "vIde"
   ]
  },
  {
   "attachments": {},
   "cell_type": "markdown",
   "id": "f97c5d30",
   "metadata": {},
   "source": [
    "#### 12. Create a 3x3x3 array with random values (★☆☆)"
   ]
  },
  {
   "cell_type": "code",
   "execution_count": 13,
   "id": "ee3fc972",
   "metadata": {},
   "outputs": [
    {
     "data": {
      "text/plain": [
       "array([[[10,  2,  6],\n",
       "        [ 3,  9,  4],\n",
       "        [ 8,  1,  2]],\n",
       "\n",
       "       [[10,  1,  7],\n",
       "        [ 1,  7,  8],\n",
       "        [ 5,  4,  6]],\n",
       "\n",
       "       [[ 2, 10,  9],\n",
       "        [ 6,  9,  7],\n",
       "        [ 3,  5,  1]]])"
      ]
     },
     "execution_count": 13,
     "metadata": {},
     "output_type": "execute_result"
    }
   ],
   "source": [
    "v12 = np.random.rand(3,3,3)\n",
    "v12 = np.random.rand(3,3,3)*9 + 1 #for values 1 to 10\n",
    "v12 = np.random.randint(1,11,size=(3,3,3))\n",
    "v12"
   ]
  },
  {
   "attachments": {},
   "cell_type": "markdown",
   "id": "ef26fe10",
   "metadata": {},
   "source": [
    "#### 13. Create a 10x10 array with random values and find the minimum and maximum values (★☆☆)"
   ]
  },
  {
   "cell_type": "code",
   "execution_count": 14,
   "id": "583c8558",
   "metadata": {},
   "outputs": [
    {
     "name": "stdout",
     "output_type": "stream",
     "text": [
      "[[18 41 14 14 59 13 93 32 10 48]\n",
      " [29 77 73 64 94 97 14 62 68 35]\n",
      " [52 16 27 71 70 76 13 25 65  7]\n",
      " [ 2 15 98 75 67 69  1 57 81 39]\n",
      " [49 57 12 96 12 66 89 77 56 46]\n",
      " [ 5 70 44 86 86 31 31 59  7 35]\n",
      " [84 18 92 84 67 50 46 35 98 63]\n",
      " [19 19 97  4 78 87 39 52 42 54]\n",
      " [47 36 10  9 47 18 87 13 11 98]\n",
      " [47 89 83 89 36 18 64 42 66 40]]\n",
      "1\n",
      "98\n"
     ]
    }
   ],
   "source": [
    "v13 = np.random.randint(1,101,size=(10,10))\n",
    "minVal = np.min(v13)\n",
    "maxVal = np.max(v13)\n",
    "print(v13)\n",
    "print(minVal)\n",
    "print(maxVal)"
   ]
  },
  {
   "attachments": {},
   "cell_type": "markdown",
   "id": "a4e596d6",
   "metadata": {},
   "source": [
    "#### 14. Create a random vector of size 30 and find the mean value (★☆☆)"
   ]
  },
  {
   "cell_type": "code",
   "execution_count": 15,
   "id": "688f9339",
   "metadata": {},
   "outputs": [
    {
     "data": {
      "text/plain": [
       "50.46666666666667"
      ]
     },
     "execution_count": 15,
     "metadata": {},
     "output_type": "execute_result"
    }
   ],
   "source": [
    "v14 = np.random.randint(1,101, size=(30))\n",
    "meanVal = np.mean(v14)\n",
    "meanVal"
   ]
  },
  {
   "attachments": {},
   "cell_type": "markdown",
   "id": "8684f9d2",
   "metadata": {},
   "source": [
    "#### 15. Create a 2d array with 1 on the border and 0 inside (★☆☆)"
   ]
  },
  {
   "cell_type": "code",
   "execution_count": 16,
   "id": "91326472",
   "metadata": {},
   "outputs": [
    {
     "data": {
      "text/plain": [
       "array([[1., 1., 1., 1., 1.],\n",
       "       [1., 0., 0., 0., 1.],\n",
       "       [1., 0., 0., 0., 1.],\n",
       "       [1., 0., 0., 0., 1.],\n",
       "       [1., 1., 1., 1., 1.]])"
      ]
     },
     "execution_count": 16,
     "metadata": {},
     "output_type": "execute_result"
    }
   ],
   "source": [
    "rows = 5\n",
    "cols = 5\n",
    "\n",
    "v15 = np.ones((rows,cols))\n",
    "v15[1:-1, 1:-1] = 0\n",
    "\n",
    "v15"
   ]
  },
  {
   "attachments": {},
   "cell_type": "markdown",
   "id": "bee391df",
   "metadata": {},
   "source": [
    "#### 16. How to add a border (filled with 0's) around an existing array? (★☆☆)"
   ]
  },
  {
   "cell_type": "code",
   "execution_count": 17,
   "id": "38997612",
   "metadata": {},
   "outputs": [
    {
     "data": {
      "text/plain": [
       "array([[0., 0., 0., 0., 0., 0., 0.],\n",
       "       [0., 1., 1., 1., 1., 1., 0.],\n",
       "       [0., 1., 0., 0., 0., 1., 0.],\n",
       "       [0., 1., 0., 0., 0., 1., 0.],\n",
       "       [0., 1., 0., 0., 0., 1., 0.],\n",
       "       [0., 1., 1., 1., 1., 1., 0.],\n",
       "       [0., 0., 0., 0., 0., 0., 0.]])"
      ]
     },
     "execution_count": 17,
     "metadata": {},
     "output_type": "execute_result"
    }
   ],
   "source": [
    "v16 = np.pad(v15, pad_width=1, mode='constant', constant_values=0)\n",
    "v16"
   ]
  },
  {
   "attachments": {},
   "cell_type": "markdown",
   "id": "bd7a89ae",
   "metadata": {},
   "source": [
    "#### 17. What is the result of the following expression? (★☆☆)\n",
    "```python\n",
    "0 * np.nan\n",
    "np.nan == np.nan\n",
    "np.inf > np.nan\n",
    "np.nan - np.nan\n",
    "np.nan in set([np.nan])\n",
    "0.3 == 3 * 0.1\n",
    "```"
   ]
  },
  {
   "cell_type": "code",
   "execution_count": 18,
   "id": "d7be4cc5",
   "metadata": {},
   "outputs": [
    {
     "name": "stdout",
     "output_type": "stream",
     "text": [
      "nan\n",
      "False\n",
      "False\n",
      "nan\n",
      "True\n",
      "False\n"
     ]
    }
   ],
   "source": [
    "print(0 * np.nan)\n",
    "print(np.nan == np.nan)\n",
    "print(np.inf > np.nan)\n",
    "print(np.nan - np.nan)\n",
    "print(np.nan in set([np.nan]))\n",
    "print(0.3 == 3 * 0.1)"
   ]
  },
  {
   "attachments": {},
   "cell_type": "markdown",
   "id": "7e83fc30",
   "metadata": {},
   "source": [
    "#### 18. Create a 5x5 matrix with values 1,2,3,4 just below the diagonal (★☆☆)"
   ]
  },
  {
   "cell_type": "code",
   "execution_count": 19,
   "id": "5f2bf828",
   "metadata": {},
   "outputs": [
    {
     "data": {
      "text/plain": [
       "array([[0, 0, 0, 0, 0],\n",
       "       [1, 0, 0, 0, 0],\n",
       "       [0, 2, 0, 0, 0],\n",
       "       [0, 0, 3, 0, 0],\n",
       "       [0, 0, 0, 4, 0]])"
      ]
     },
     "execution_count": 19,
     "metadata": {},
     "output_type": "execute_result"
    }
   ],
   "source": [
    "diagonal_values = [1,2,3,4]\n",
    "matrix18 = np.diag(diagonal_values, k=-1)\n",
    "matrix18"
   ]
  },
  {
   "attachments": {},
   "cell_type": "markdown",
   "id": "adf844ee",
   "metadata": {},
   "source": [
    "#### 19. Create a 8x8 matrix and fill it with a checkerboard pattern (★☆☆)"
   ]
  },
  {
   "cell_type": "code",
   "execution_count": 20,
   "id": "51f72481",
   "metadata": {},
   "outputs": [
    {
     "data": {
      "text/plain": [
       "array([[0, 1, 0, 1, 0, 1, 0, 1],\n",
       "       [1, 0, 1, 0, 1, 0, 1, 0],\n",
       "       [0, 1, 0, 1, 0, 1, 0, 1],\n",
       "       [1, 0, 1, 0, 1, 0, 1, 0],\n",
       "       [0, 1, 0, 1, 0, 1, 0, 1],\n",
       "       [1, 0, 1, 0, 1, 0, 1, 0],\n",
       "       [0, 1, 0, 1, 0, 1, 0, 1],\n",
       "       [1, 0, 1, 0, 1, 0, 1, 0]])"
      ]
     },
     "execution_count": 20,
     "metadata": {},
     "output_type": "execute_result"
    }
   ],
   "source": [
    "matrix19 = np.zeros((8,8), dtype=int)\n",
    "matrix19[1::2, ::2] = 1\n",
    "matrix19[::2, 1::2] = 1\n",
    "matrix19"
   ]
  },
  {
   "attachments": {},
   "cell_type": "markdown",
   "id": "376920f0",
   "metadata": {},
   "source": [
    "#### 20. Consider a (6,7,8) shape array, what is the index (x,y,z) of the 100th element?"
   ]
  },
  {
   "cell_type": "code",
   "execution_count": 21,
   "id": "d7831093",
   "metadata": {},
   "outputs": [
    {
     "data": {
      "text/plain": [
       "(1, 5, 4)"
      ]
     },
     "execution_count": 21,
     "metadata": {},
     "output_type": "execute_result"
    }
   ],
   "source": [
    "shape = (6,7,8)\n",
    "index = 100\n",
    "\n",
    "cube20 = np.arange(np.prod(shape)).reshape(shape)\n",
    "indices = np.unravel_index(index,shape)\n",
    "indices"
   ]
  },
  {
   "attachments": {},
   "cell_type": "markdown",
   "id": "7cc8a4b7",
   "metadata": {},
   "source": [
    "#### 21. Create a checkerboard 8x8 matrix using the tile function (★☆☆)"
   ]
  },
  {
   "cell_type": "code",
   "execution_count": 22,
   "id": "9e2afd9a",
   "metadata": {},
   "outputs": [
    {
     "data": {
      "text/plain": [
       "array([[0, 1, 0, 1, 0, 1, 0, 1],\n",
       "       [1, 0, 1, 0, 1, 0, 1, 0],\n",
       "       [0, 1, 0, 1, 0, 1, 0, 1],\n",
       "       [1, 0, 1, 0, 1, 0, 1, 0],\n",
       "       [0, 1, 0, 1, 0, 1, 0, 1],\n",
       "       [1, 0, 1, 0, 1, 0, 1, 0],\n",
       "       [0, 1, 0, 1, 0, 1, 0, 1],\n",
       "       [1, 0, 1, 0, 1, 0, 1, 0]])"
      ]
     },
     "execution_count": 22,
     "metadata": {},
     "output_type": "execute_result"
    }
   ],
   "source": [
    "row_pattern = np.array([[0,1],[1,0]])\n",
    "chess_board = np.tile(row_pattern, (4,4))\n",
    "chess_board"
   ]
  },
  {
   "attachments": {},
   "cell_type": "markdown",
   "id": "eb183f00",
   "metadata": {},
   "source": [
    "#### 22. Normalize a 5x5 random matrix (★☆☆)"
   ]
  },
  {
   "cell_type": "code",
   "execution_count": 23,
   "id": "0000870d",
   "metadata": {},
   "outputs": [
    {
     "name": "stdout",
     "output_type": "stream",
     "text": [
      "[[ 73  88  35  72  94]\n",
      " [ 90  25  18  60  28]\n",
      " [ 90  71 100  18  73]\n",
      " [ 13  39  88  90  40]\n",
      " [ 79  80  65  81  65]]\n",
      "[[ 0.37158549  0.92896372 -1.04043937  0.33442694  1.15191502]\n",
      " [ 1.00328082 -1.41202486 -1.6721347  -0.11147565 -1.30054921]\n",
      " [ 1.00328082  0.29726839  1.37486631 -1.6721347   0.37158549]\n",
      " [-1.85792745 -0.89180517  0.92896372  1.00328082 -0.85464663]\n",
      " [ 0.59453678  0.63169533  0.0743171   0.66885388  0.0743171 ]]\n"
     ]
    }
   ],
   "source": [
    "matrix22 = np.random.randint(1,101, size=(5,5))\n",
    "mean = np.mean(matrix22)\n",
    "std = np.std(matrix22)\n",
    "\n",
    "normallized_matrix22 = (matrix22-mean)/std\n",
    "print(matrix22)\n",
    "print(normallized_matrix22)"
   ]
  },
  {
   "attachments": {},
   "cell_type": "markdown",
   "id": "539b31bd",
   "metadata": {},
   "source": [
    "#### 23. Create a custom dtype that describes a color as four unsigned bytes (RGBA) (★☆☆)"
   ]
  },
  {
   "cell_type": "code",
   "execution_count": 24,
   "id": "81c6670a",
   "metadata": {},
   "outputs": [
    {
     "data": {
      "text/plain": [
       "array([(255,   0,   0, 255), (  0, 255,   0, 255), (  0,   0, 255, 255)],\n",
       "      dtype=[('R', 'u1'), ('G', 'u1'), ('B', 'u1'), ('A', 'u1')])"
      ]
     },
     "execution_count": 24,
     "metadata": {},
     "output_type": "execute_result"
    }
   ],
   "source": [
    "color_dtype = np.dtype([('R', np.uint8), ('G', np.uint8), ('B', np.uint8), ('A', np.uint8)])\n",
    "colors = np.array([(255,0,0,255), (0,255,0,255), (0,0,255,255)], dtype=color_dtype)\n",
    "colors"
   ]
  },
  {
   "attachments": {},
   "cell_type": "markdown",
   "id": "747455c7",
   "metadata": {},
   "source": [
    "#### 24. Multiply a 5x3 matrix by a 3x2 matrix (real matrix product) (★☆☆)"
   ]
  },
  {
   "cell_type": "code",
   "execution_count": 25,
   "id": "a4826d9e",
   "metadata": {},
   "outputs": [
    {
     "data": {
      "text/plain": [
       "array([[0.86169863, 0.97725523],\n",
       "       [1.2294323 , 1.26413682],\n",
       "       [0.82384457, 0.77073499],\n",
       "       [0.69166901, 0.76155436],\n",
       "       [0.8894899 , 0.88219792]])"
      ]
     },
     "execution_count": 25,
     "metadata": {},
     "output_type": "execute_result"
    }
   ],
   "source": [
    "A = np.random.random((5,3))\n",
    "B = np.random.random((3,2))\n",
    "result = np.dot(A,B)\n",
    "result"
   ]
  },
  {
   "attachments": {},
   "cell_type": "markdown",
   "id": "8ef2d413",
   "metadata": {},
   "source": [
    "#### 25. Given a 1D array, negate all elements which are between 3 and 8, in place. (★☆☆)"
   ]
  },
  {
   "cell_type": "code",
   "execution_count": 26,
   "id": "83470182",
   "metadata": {},
   "outputs": [
    {
     "data": {
      "text/plain": [
       "array([ 1,  2,  3, -4, -5, -6, -7,  8,  9, 10])"
      ]
     },
     "execution_count": 26,
     "metadata": {},
     "output_type": "execute_result"
    }
   ],
   "source": [
    "arr = np.array([1,2,3,4,5,6,7,8,9,10])\n",
    "arr[(arr>3)&(arr<8)] *= -1\n",
    "arr"
   ]
  },
  {
   "attachments": {},
   "cell_type": "markdown",
   "id": "979dcc89",
   "metadata": {},
   "source": [
    "#### 26. What is the output of the following script? (★☆☆)\n",
    "```python\n",
    "print(sum(range(5),-1)) #output will be 9\n",
    "from numpy import *\n",
    "print(sum(range(5),-1)) #output will be 10\n",
    "```"
   ]
  },
  {
   "attachments": {},
   "cell_type": "markdown",
   "id": "fbe0dc0d",
   "metadata": {},
   "source": [
    "#### 27. Consider an integer vector Z, which of these expressions are legal? (★☆☆)\n",
    "```python\n",
    "Z**Z #computes exp of each element in vector z with it self.\n",
    "2 << Z >> 2 # perdorm betwise left and right sift with value 2\n",
    "Z <- Z # compare each elements of z with its negation using <\n",
    "1j*Z # muliply each elements of z with 1j imaginary unit\n",
    "Z/1/1 # divides each elements by 1 then again divides by 1\n",
    "Z<Z>Z # not legal\n",
    "```"
   ]
  },
  {
   "attachments": {},
   "cell_type": "markdown",
   "id": "45edfe97",
   "metadata": {},
   "source": [
    "#### 28. What are the result of the following expressions?\n",
    "```python\n",
    "np.array(0) / np.array(0)\n",
    "np.array(0) // np.array(0)\n",
    "np.array([np.nan]).astype(int).astype(float)\n",
    "```"
   ]
  },
  {
   "attachments": {},
   "cell_type": "markdown",
   "id": "55478e6b",
   "metadata": {},
   "source": [
    "#### 29. How to round away from zero a float array ? (★☆☆)"
   ]
  },
  {
   "cell_type": "code",
   "execution_count": 27,
   "id": "cf159e87",
   "metadata": {},
   "outputs": [
    {
     "data": {
      "text/plain": [
       "array([-1., -1.,  1.,  2.,  2.])"
      ]
     },
     "execution_count": 27,
     "metadata": {},
     "output_type": "execute_result"
    }
   ],
   "source": [
    "arr = np.array([-1.5, -1.2, 0.5, 1.2, 1.5])\n",
    "rounded_arr = np.ceil(arr)\n",
    "rounded_arr"
   ]
  },
  {
   "attachments": {},
   "cell_type": "markdown",
   "id": "09900bd3",
   "metadata": {},
   "source": [
    "#### 30. How to find common values between two arrays? (★☆☆)"
   ]
  },
  {
   "cell_type": "code",
   "execution_count": 28,
   "id": "969add12",
   "metadata": {},
   "outputs": [
    {
     "data": {
      "text/plain": [
       "array([4, 5])"
      ]
     },
     "execution_count": 28,
     "metadata": {},
     "output_type": "execute_result"
    }
   ],
   "source": [
    "arr1 = np.array([1, 2, 3, 4, 5])\n",
    "arr2 = np.array([4, 5, 6, 7, 8])\n",
    "\n",
    "common_values = np.intersect1d(arr1, arr2)\n",
    "common_values"
   ]
  },
  {
   "attachments": {},
   "cell_type": "markdown",
   "id": "72336ab1",
   "metadata": {},
   "source": [
    "#### 31. How to ignore all numpy warnings (not recommended)? (★☆☆)"
   ]
  },
  {
   "cell_type": "code",
   "execution_count": 29,
   "id": "41b44305",
   "metadata": {},
   "outputs": [],
   "source": [
    "import warnings\n",
    "warnings.filterwarnings(\"ignore\")"
   ]
  },
  {
   "attachments": {},
   "cell_type": "markdown",
   "id": "5570c806",
   "metadata": {},
   "source": [
    "#### 32. Is the following expressions true? (★☆☆)\n",
    "```python\n",
    "np.sqrt(-1) == np.emath.sqrt(-1)\n",
    "```"
   ]
  },
  {
   "cell_type": "code",
   "execution_count": 30,
   "id": "3c2c6b4b",
   "metadata": {},
   "outputs": [
    {
     "name": "stdout",
     "output_type": "stream",
     "text": [
      "nan\n",
      "1j\n",
      "False\n"
     ]
    }
   ],
   "source": [
    "print(np.sqrt(-1))\n",
    "print(np.emath.sqrt(-1))\n",
    "print(np.sqrt(-1) == np.emath.sqrt(-1))"
   ]
  },
  {
   "attachments": {},
   "cell_type": "markdown",
   "id": "59bfa3d3",
   "metadata": {},
   "source": [
    "#### 33. How to get the dates of yesterday, today and tomorrow? (★☆☆)"
   ]
  },
  {
   "cell_type": "code",
   "execution_count": 31,
   "id": "1f979253",
   "metadata": {},
   "outputs": [
    {
     "name": "stdout",
     "output_type": "stream",
     "text": [
      "2023-06-05\n",
      "2023-06-06\n",
      "2023-06-07\n"
     ]
    }
   ],
   "source": [
    "today = np.datetime64(\"today\")\n",
    "yesterday = today - np.timedelta64(1, 'D')\n",
    "tommorrow = today + np.timedelta64(1, 'D')\n",
    "print(yesterday)\n",
    "print(today)\n",
    "print(tommorrow)"
   ]
  },
  {
   "attachments": {},
   "cell_type": "markdown",
   "id": "fc53835c",
   "metadata": {},
   "source": [
    "#### 34. How to get all the dates corresponding to the month of July 2016? (★★☆)"
   ]
  },
  {
   "cell_type": "code",
   "execution_count": 32,
   "id": "44e46d51",
   "metadata": {},
   "outputs": [
    {
     "name": "stdout",
     "output_type": "stream",
     "text": [
      "['2016-07-01' '2016-07-02' '2016-07-03' '2016-07-04' '2016-07-05'\n",
      " '2016-07-06' '2016-07-07' '2016-07-08' '2016-07-09' '2016-07-10'\n",
      " '2016-07-11' '2016-07-12' '2016-07-13' '2016-07-14' '2016-07-15'\n",
      " '2016-07-16' '2016-07-17' '2016-07-18' '2016-07-19' '2016-07-20'\n",
      " '2016-07-21' '2016-07-22' '2016-07-23' '2016-07-24' '2016-07-25'\n",
      " '2016-07-26' '2016-07-27' '2016-07-28' '2016-07-29' '2016-07-30'\n",
      " '2016-07-31']\n"
     ]
    }
   ],
   "source": [
    "start_date = np.datetime64('2016-07-01')\n",
    "end_date = np.datetime64('2016-08-01')\n",
    "\n",
    "dates = np.arange(start_date, end_date, np.timedelta64(1,'D'))\n",
    "print(dates)"
   ]
  },
  {
   "attachments": {},
   "cell_type": "markdown",
   "id": "e40e84b2",
   "metadata": {},
   "source": [
    "#### 35. How to compute ((A+B)*(-A/2)) in place (without copy)? (★★☆)"
   ]
  },
  {
   "cell_type": "code",
   "execution_count": 33,
   "id": "582cc5d6",
   "metadata": {},
   "outputs": [
    {
     "name": "stdout",
     "output_type": "stream",
     "text": [
      "[ -3 -18 -36 -21]\n"
     ]
    }
   ],
   "source": [
    "A = np.array([1,2,4,5])\n",
    "B = np.array([2,4,5,2])\n",
    "A += B\n",
    "A *= (-A/2).astype(np.int32)\n",
    "\n",
    "print(A)"
   ]
  },
  {
   "attachments": {},
   "cell_type": "markdown",
   "id": "d94a6ef8",
   "metadata": {},
   "source": [
    "#### 36. Extract the integer part of a random array of positive numbers using 4 different methods (★★☆)"
   ]
  },
  {
   "cell_type": "code",
   "execution_count": 34,
   "id": "67119759",
   "metadata": {},
   "outputs": [
    {
     "name": "stdout",
     "output_type": "stream",
     "text": [
      "[0.03583184 7.40322812 9.56859617 8.31656775 6.6293465 ]\n"
     ]
    }
   ],
   "source": [
    "random_array = np.random.rand(5)*10\n",
    "print(random_array)"
   ]
  },
  {
   "cell_type": "code",
   "execution_count": 35,
   "metadata": {},
   "outputs": [
    {
     "name": "stdout",
     "output_type": "stream",
     "text": [
      "[0 7 9 8 6]\n"
     ]
    }
   ],
   "source": [
    "int_arr1 = random_array.astype(int)\n",
    "print(int_arr1)"
   ]
  },
  {
   "cell_type": "code",
   "execution_count": 36,
   "id": "f5d750fc",
   "metadata": {},
   "outputs": [
    {
     "name": "stdout",
     "output_type": "stream",
     "text": [
      "[0. 7. 9. 8. 6.]\n"
     ]
    }
   ],
   "source": [
    "int_arr2 = np.floor(random_array)\n",
    "print(int_arr2)"
   ]
  },
  {
   "cell_type": "code",
   "execution_count": 37,
   "id": "575d6a5b",
   "metadata": {},
   "outputs": [
    {
     "name": "stdout",
     "output_type": "stream",
     "text": [
      "[0. 7. 9. 8. 6.]\n"
     ]
    }
   ],
   "source": [
    "int_arr3 = np.trunc(random_array)\n",
    "print(int_arr3)"
   ]
  },
  {
   "cell_type": "code",
   "execution_count": 38,
   "id": "5197dd6b",
   "metadata": {},
   "outputs": [
    {
     "name": "stdout",
     "output_type": "stream",
     "text": [
      "[0 7 9 8 6]\n"
     ]
    }
   ],
   "source": [
    "int_arr4 = np.array(list(map(int, random_array)))\n",
    "print(int_arr4)"
   ]
  },
  {
   "attachments": {},
   "cell_type": "markdown",
   "id": "eae8c280",
   "metadata": {},
   "source": [
    "#### 37. Create a 5x5 matrix with row values ranging from 0 to 4 (★★☆)"
   ]
  },
  {
   "cell_type": "code",
   "execution_count": 39,
   "id": "d727ba36",
   "metadata": {},
   "outputs": [
    {
     "name": "stdout",
     "output_type": "stream",
     "text": [
      "[[2 3 4 0 1]\n",
      " [1 0 3 2 4]\n",
      " [4 3 0 2 1]\n",
      " [4 0 2 3 1]\n",
      " [3 1 0 4 2]]\n"
     ]
    }
   ],
   "source": [
    "row_values = np.arange(5)\n",
    "matrix = np.empty((5,5), dtype=int)\n",
    "for i in range(5):\n",
    "    np.random.shuffle(row_values)\n",
    "    matrix[i] = row_values\n",
    "print(matrix)"
   ]
  },
  {
   "attachments": {},
   "cell_type": "markdown",
   "id": "39090e05",
   "metadata": {},
   "source": [
    "#### 38. Consider a generator function that generates 10 integers and use it to build an array (★☆☆)"
   ]
  },
  {
   "cell_type": "code",
   "execution_count": 40,
   "id": "dea25843",
   "metadata": {},
   "outputs": [
    {
     "name": "stdout",
     "output_type": "stream",
     "text": [
      "[         0          0          0 1075576832         39 1075970048\n",
      "          0 1075838976          0 1075314688]\n"
     ]
    }
   ],
   "source": [
    "def generate_integers():\n",
    "    for _ in range(10):\n",
    "        yield np.random.randint(0,100)\n",
    "array = np.empty(10,dtype=int)\n",
    "array[i] = next(generate_integers())\n",
    "print(array)"
   ]
  },
  {
   "attachments": {},
   "cell_type": "markdown",
   "id": "68d3b9d3",
   "metadata": {},
   "source": [
    "#### 39. Create a vector of size 10 with values ranging from 0 to 1, both excluded (★★☆)"
   ]
  },
  {
   "cell_type": "code",
   "execution_count": 41,
   "id": "cb2c9436",
   "metadata": {},
   "outputs": [
    {
     "name": "stdout",
     "output_type": "stream",
     "text": [
      "[0.1 0.2 0.3 0.4 0.5 0.6 0.7 0.8 0.9]\n"
     ]
    }
   ],
   "source": [
    "# vector = np.linspace(0.001, 0.999, 10)\n",
    "vector = np.arange(0.1, 1, 0.1)\n",
    "print(vector)"
   ]
  },
  {
   "attachments": {},
   "cell_type": "markdown",
   "id": "19238553",
   "metadata": {},
   "source": [
    "#### 40. Create a random vector of size 10 and sort it (★★☆)"
   ]
  },
  {
   "cell_type": "code",
   "execution_count": 42,
   "id": "5dfcbf46",
   "metadata": {},
   "outputs": [
    {
     "name": "stdout",
     "output_type": "stream",
     "text": [
      "[80 23 13 76 38 29 61 48 21 47]\n",
      "[13 21 23 29 38 47 48 61 76 80]\n"
     ]
    }
   ],
   "source": [
    "vector = np.random.randint(1, 101, size=(10))\n",
    "print(vector)\n",
    "print(np.sort(vector))"
   ]
  },
  {
   "attachments": {},
   "cell_type": "markdown",
   "id": "b070d7cc",
   "metadata": {},
   "source": [
    "#### 41. How to sum a small array faster than np.sum? (★★☆)"
   ]
  },
  {
   "attachments": {},
   "cell_type": "markdown",
   "id": "ab84a300",
   "metadata": {},
   "source": [
    "Use built int \"sum\"(sum(arr)) funcion of python"
   ]
  },
  {
   "attachments": {},
   "cell_type": "markdown",
   "id": "c77639c3",
   "metadata": {},
   "source": [
    "#### 42. Consider two random array A and B, check if they are equal (★★☆)"
   ]
  },
  {
   "cell_type": "code",
   "execution_count": 43,
   "id": "81778312",
   "metadata": {},
   "outputs": [
    {
     "data": {
      "text/plain": [
       "False"
      ]
     },
     "execution_count": 43,
     "metadata": {},
     "output_type": "execute_result"
    }
   ],
   "source": [
    "A = np.random.rand(5)\n",
    "B = np.random.rand(5)\n",
    "\n",
    "are_equal = np.array_equal(A, B)\n",
    "are_equal"
   ]
  },
  {
   "attachments": {},
   "cell_type": "markdown",
   "id": "fa73bf67",
   "metadata": {},
   "source": [
    "#### 43. Make an array immutable (read-only) (★★☆)"
   ]
  },
  {
   "cell_type": "code",
   "execution_count": 44,
   "id": "e58ffbcd",
   "metadata": {},
   "outputs": [],
   "source": [
    "arr = np.array([1,2,3,4,5])\n",
    "arr.flags.writeable = False\n",
    "# raise ValueError\n",
    "# arr[2] = 1"
   ]
  },
  {
   "attachments": {},
   "cell_type": "markdown",
   "id": "ad99f779",
   "metadata": {},
   "source": [
    "#### 44. Consider a random 10x2 matrix representing cartesian coordinates, convert them to polar coordinates (★★☆)"
   ]
  },
  {
   "cell_type": "code",
   "execution_count": 45,
   "id": "8e1bf5b8",
   "metadata": {},
   "outputs": [
    {
     "name": "stdout",
     "output_type": "stream",
     "text": [
      "[[5 5]\n",
      " [6 9]\n",
      " [0 2]\n",
      " [7 4]\n",
      " [9 0]\n",
      " [3 2]\n",
      " [5 1]\n",
      " [2 4]\n",
      " [3 9]\n",
      " [0 1]]\n",
      "[[ 7.07106781  0.78539816]\n",
      " [10.81665383  0.98279372]\n",
      " [ 2.          1.57079633]\n",
      " [ 8.06225775  0.51914611]\n",
      " [ 9.          0.        ]\n",
      " [ 3.60555128  0.5880026 ]\n",
      " [ 5.09901951  0.19739556]\n",
      " [ 4.47213595  1.10714872]\n",
      " [ 9.48683298  1.24904577]\n",
      " [ 1.          1.57079633]]\n"
     ]
    }
   ],
   "source": [
    "cartesian_coords = np.random.randint(0, 11, size = (10,2))\n",
    "\n",
    "x = cartesian_coords[:, 0]\n",
    "y = cartesian_coords[:, 1]\n",
    "r = np.hypot(x,y)\n",
    "theta = np.arctan2(y,x)\n",
    "\n",
    "polar_coords=np.column_stack((r,theta))\n",
    "\n",
    "print(cartesian_coords)\n",
    "print(polar_coords)"
   ]
  },
  {
   "attachments": {},
   "cell_type": "markdown",
   "id": "90fba187",
   "metadata": {},
   "source": [
    "#### 45. Create random vector of size 10 and replace the maximum value by 0 (★★☆)"
   ]
  },
  {
   "cell_type": "code",
   "execution_count": 46,
   "id": "dce1e23c",
   "metadata": {},
   "outputs": [
    {
     "name": "stdout",
     "output_type": "stream",
     "text": [
      "[45 64 37 76 14 20 62  4 20 40]\n",
      "[45 64 37  0 14 20 62  4 20 40]\n"
     ]
    }
   ],
   "source": [
    "vector = np.random.randint(1,101, size=(10))\n",
    "print(vector)\n",
    "max_index = np.argmax(vector)\n",
    "vector[max_index] = 0\n",
    "print(vector)"
   ]
  },
  {
   "attachments": {},
   "cell_type": "markdown",
   "id": "ac8ef48f",
   "metadata": {},
   "source": [
    "#### 46. Create a structured array with `x` and `y` coordinates covering the [0,1]x[0,1] area (★★☆)"
   ]
  },
  {
   "cell_type": "code",
   "execution_count": 47,
   "id": "effabb19",
   "metadata": {},
   "outputs": [
    {
     "name": "stdout",
     "output_type": "stream",
     "text": [
      "[[0.         0.        ]\n",
      " [0.11111111 0.        ]\n",
      " [0.22222222 0.        ]\n",
      " [0.33333333 0.        ]\n",
      " [0.44444444 0.        ]\n",
      " [0.55555556 0.        ]\n",
      " [0.66666667 0.        ]\n",
      " [0.77777778 0.        ]\n",
      " [0.88888889 0.        ]\n",
      " [1.         0.        ]\n",
      " [0.         0.11111111]\n",
      " [0.11111111 0.11111111]\n",
      " [0.22222222 0.11111111]\n",
      " [0.33333333 0.11111111]\n",
      " [0.44444444 0.11111111]\n",
      " [0.55555556 0.11111111]\n",
      " [0.66666667 0.11111111]\n",
      " [0.77777778 0.11111111]\n",
      " [0.88888889 0.11111111]\n",
      " [1.         0.11111111]\n",
      " [0.         0.22222222]\n",
      " [0.11111111 0.22222222]\n",
      " [0.22222222 0.22222222]\n",
      " [0.33333333 0.22222222]\n",
      " [0.44444444 0.22222222]\n",
      " [0.55555556 0.22222222]\n",
      " [0.66666667 0.22222222]\n",
      " [0.77777778 0.22222222]\n",
      " [0.88888889 0.22222222]\n",
      " [1.         0.22222222]\n",
      " [0.         0.33333333]\n",
      " [0.11111111 0.33333333]\n",
      " [0.22222222 0.33333333]\n",
      " [0.33333333 0.33333333]\n",
      " [0.44444444 0.33333333]\n",
      " [0.55555556 0.33333333]\n",
      " [0.66666667 0.33333333]\n",
      " [0.77777778 0.33333333]\n",
      " [0.88888889 0.33333333]\n",
      " [1.         0.33333333]\n",
      " [0.         0.44444444]\n",
      " [0.11111111 0.44444444]\n",
      " [0.22222222 0.44444444]\n",
      " [0.33333333 0.44444444]\n",
      " [0.44444444 0.44444444]\n",
      " [0.55555556 0.44444444]\n",
      " [0.66666667 0.44444444]\n",
      " [0.77777778 0.44444444]\n",
      " [0.88888889 0.44444444]\n",
      " [1.         0.44444444]\n",
      " [0.         0.55555556]\n",
      " [0.11111111 0.55555556]\n",
      " [0.22222222 0.55555556]\n",
      " [0.33333333 0.55555556]\n",
      " [0.44444444 0.55555556]\n",
      " [0.55555556 0.55555556]\n",
      " [0.66666667 0.55555556]\n",
      " [0.77777778 0.55555556]\n",
      " [0.88888889 0.55555556]\n",
      " [1.         0.55555556]\n",
      " [0.         0.66666667]\n",
      " [0.11111111 0.66666667]\n",
      " [0.22222222 0.66666667]\n",
      " [0.33333333 0.66666667]\n",
      " [0.44444444 0.66666667]\n",
      " [0.55555556 0.66666667]\n",
      " [0.66666667 0.66666667]\n",
      " [0.77777778 0.66666667]\n",
      " [0.88888889 0.66666667]\n",
      " [1.         0.66666667]\n",
      " [0.         0.77777778]\n",
      " [0.11111111 0.77777778]\n",
      " [0.22222222 0.77777778]\n",
      " [0.33333333 0.77777778]\n",
      " [0.44444444 0.77777778]\n",
      " [0.55555556 0.77777778]\n",
      " [0.66666667 0.77777778]\n",
      " [0.77777778 0.77777778]\n",
      " [0.88888889 0.77777778]\n",
      " [1.         0.77777778]\n",
      " [0.         0.88888889]\n",
      " [0.11111111 0.88888889]\n",
      " [0.22222222 0.88888889]\n",
      " [0.33333333 0.88888889]\n",
      " [0.44444444 0.88888889]\n",
      " [0.55555556 0.88888889]\n",
      " [0.66666667 0.88888889]\n",
      " [0.77777778 0.88888889]\n",
      " [0.88888889 0.88888889]\n",
      " [1.         0.88888889]\n",
      " [0.         1.        ]\n",
      " [0.11111111 1.        ]\n",
      " [0.22222222 1.        ]\n",
      " [0.33333333 1.        ]\n",
      " [0.44444444 1.        ]\n",
      " [0.55555556 1.        ]\n",
      " [0.66666667 1.        ]\n",
      " [0.77777778 1.        ]\n",
      " [0.88888889 1.        ]\n",
      " [1.         1.        ]]\n"
     ]
    }
   ],
   "source": [
    "n_points = 10\n",
    "x = np.linspace(0,1,n_points)\n",
    "y = np.linspace(0,1,n_points)\n",
    "\n",
    "X, Y = np.meshgrid(x,y)\n",
    "coordinates = np.column_stack((X.flatten(), Y.flatten()))\n",
    "print(coordinates)"
   ]
  },
  {
   "attachments": {},
   "cell_type": "markdown",
   "id": "af439cd2",
   "metadata": {},
   "source": [
    "#### 47. Given two arrays, X and Y, construct the Cauchy matrix C (Cij =1/(xi - yj))"
   ]
  },
  {
   "cell_type": "code",
   "execution_count": 48,
   "id": "936c2394",
   "metadata": {},
   "outputs": [
    {
     "name": "stdout",
     "output_type": "stream",
     "text": [
      "[[-1.         -0.33333333 -0.2        -0.14285714 -0.11111111]\n",
      " [        inf -0.5        -0.25       -0.16666667 -0.125     ]\n",
      " [ 1.         -1.         -0.33333333 -0.2        -0.14285714]\n",
      " [ 0.5                inf -0.5        -0.25       -0.16666667]\n",
      " [ 0.33333333  1.         -1.         -0.33333333 -0.2       ]]\n"
     ]
    }
   ],
   "source": [
    "X = np.array([1,2,3,4,5])\n",
    "Y = np.array([2,4,6,8,10])\n",
    "\n",
    "cauchy_matrix = 1 / (np.subtract.outer(X,Y))\n",
    "print(cauchy_matrix)"
   ]
  },
  {
   "attachments": {},
   "cell_type": "markdown",
   "id": "d4a7120c",
   "metadata": {},
   "source": [
    "#### 48. Print the minimum and maximum representable value for each numpy scalar type (★★☆)"
   ]
  },
  {
   "cell_type": "code",
   "execution_count": 49,
   "id": "d31e312c",
   "metadata": {},
   "outputs": [
    {
     "name": "stdout",
     "output_type": "stream",
     "text": [
      "int8: -128 to 127\n",
      "int16: -32768 to 32767\n",
      "int32: -2147483648 to 2147483647\n",
      "int64: -9223372036854775808 to 9223372036854775807\n",
      "uint8: 0 to 255\n",
      "uint16: 0 to 65535\n",
      "uint32: 0 to 4294967295\n",
      "uint64: 0 to 18446744073709551615\n",
      "float16: -65504.0 to 65504.0\n",
      "float32: -3.4028234663852886e+38 to 3.4028234663852886e+38\n",
      "float64: -1.7976931348623157e+308 to 1.7976931348623157e+308\n",
      "complex64: -3.4028234663852886e+38 to 3.4028234663852886e+38\n",
      "complex128: -1.7976931348623157e+308 to 1.7976931348623157e+308\n"
     ]
    }
   ],
   "source": [
    "# List of NumPy scalar types\n",
    "scalar_types = [np.int8, np.int16, np.int32, np.int64, np.uint8, np.uint16,\n",
    "                np.uint32, np.uint64, np.float16, np.float32, np.float64, np.complex64,\n",
    "                np.complex128]\n",
    "\n",
    "for type in scalar_types:\n",
    "    min_value = np.iinfo(type).min if np.issubdtype(type, np.integer) else np.finfo(type).min\n",
    "    max_value = np.iinfo(type).max if np.issubdtype(type, np.integer) else np.finfo(type).max\n",
    "    print(f\"{type.__name__}: {min_value} to {max_value}\")"
   ]
  },
  {
   "attachments": {},
   "cell_type": "markdown",
   "id": "89884197",
   "metadata": {},
   "source": [
    "#### 49. How to print all the values of an array? (★☆☆)"
   ]
  },
  {
   "cell_type": "code",
   "execution_count": 50,
   "id": "42d626d9",
   "metadata": {},
   "outputs": [
    {
     "name": "stdout",
     "output_type": "stream",
     "text": [
      "[1 2 3 4 5]\n"
     ]
    }
   ],
   "source": [
    "print(arr);"
   ]
  },
  {
   "attachments": {},
   "cell_type": "markdown",
   "id": "7d7cbf5a",
   "metadata": {},
   "source": [
    "#### 50. How to find the closest value (to a given scalar) in a vector? (★★☆)"
   ]
  },
  {
   "cell_type": "code",
   "execution_count": 51,
   "id": "e2785fbc",
   "metadata": {},
   "outputs": [
    {
     "name": "stdout",
     "output_type": "stream",
     "text": [
      "7\n"
     ]
    }
   ],
   "source": [
    "vector = np.array([1,2,5,7,9])\n",
    "scalar = 8\n",
    "abs_diff = np.abs(vector-scalar)\n",
    "closest_ind = np.argmin(abs_diff)\n",
    "closest = vector[closest_ind]\n",
    "print(closest)\n"
   ]
  },
  {
   "attachments": {},
   "cell_type": "markdown",
   "id": "5911106b",
   "metadata": {},
   "source": [
    "#### 51. Create a structured array representing a position (x,y) and a color (r,g,b) (★★☆)"
   ]
  },
  {
   "cell_type": "code",
   "execution_count": 52,
   "id": "435b5e0b",
   "metadata": {},
   "outputs": [],
   "source": [
    "new_dtype = np.dtype([('position', [('x', float), ('y', float)]), \n",
    "                      ('color', [('r', int), ('g', int), ('b', int)])])"
   ]
  },
  {
   "attachments": {},
   "cell_type": "markdown",
   "id": "23bbc766",
   "metadata": {},
   "source": [
    "#### 52. Consider a random vector with shape (100,2) representing coordinates, find point by point distances (★★☆)"
   ]
  },
  {
   "cell_type": "code",
   "execution_count": 53,
   "id": "00ce2857",
   "metadata": {},
   "outputs": [
    {
     "name": "stdout",
     "output_type": "stream",
     "text": [
      "[10.         10.19803903  3.16227766 11.18033989  7.21110255  8.06225775\n",
      "  6.08276253  1.41421356  7.61577311  7.28010989  8.06225775  5.38516481\n",
      " 10.63014581  3.16227766  9.8488578  11.40175425  6.70820393  8.94427191\n",
      "  5.09901951  9.89949494  7.61577311 12.04159458 10.44030651 10.29563014\n",
      "  9.48683298  9.21954446  7.81024968  6.40312424  6.70820393  7.07106781\n",
      "  5.09901951 10.81665383  8.24621125 10.19803903  6.08276253  3.60555128\n",
      " 10.04987562  5.38516481 10.63014581  7.07106781 10.44030651  4.24264069\n",
      "  3.16227766  4.47213595 10.77032961 10.77032961  4.12310563  9.48683298\n",
      "  3.60555128 11.18033989 10.44030651  7.28010989  5.          8.06225775\n",
      " 10.29563014  5.          8.06225775 11.66190379 10.19803903  7.61577311\n",
      "  4.12310563 10.77032961  8.06225775 10.19803903  9.43398113  4.47213595\n",
      "  4.24264069  3.60555128 11.40175425  3.16227766 10.29563014 12.72792206\n",
      " 11.18033989 10.81665383 11.3137085   9.21954446  3.16227766  9.21954446\n",
      "  9.05538514  8.06225775  4.24264069  6.70820393  8.06225775  8.94427191\n",
      "  5.38516481  9.48683298 12.72792206  5.38516481  5.65685425 11.3137085\n",
      "  4.12310563  8.60232527  9.43398113 12.20655562  9.21954446  5.38516481\n",
      " 10.77032961  4.12310563  8.06225775  8.94427191]\n"
     ]
    }
   ],
   "source": [
    "random_vector = np.random.randint(1, 11, size=(100, 2))\n",
    "distances = np.linalg.norm(random_vector, axis=1)\n",
    "print(distances)"
   ]
  },
  {
   "attachments": {},
   "cell_type": "markdown",
   "id": "fd9d309a",
   "metadata": {},
   "source": [
    "#### 53. How to convert a float (32 bits) array into an integer (32 bits) in place?"
   ]
  },
  {
   "cell_type": "code",
   "execution_count": 54,
   "id": "2cc560d9",
   "metadata": {},
   "outputs": [
    {
     "name": "stdout",
     "output_type": "stream",
     "text": [
      "[1 2 3]\n"
     ]
    }
   ],
   "source": [
    "float_arr = np.array([1.5,2.7,3.2], dtype = np.float32)\n",
    "float_arr = float_arr.astype(np.int32)\n",
    "print(float_arr)"
   ]
  },
  {
   "attachments": {},
   "cell_type": "markdown",
   "id": "ea8caebf",
   "metadata": {},
   "source": [
    "#### 54. How to read the following file? (★★☆)\n",
    "```\n",
    "1, 2, 3, 4, 5\n",
    "6,  ,  , 7, 8\n",
    " ,  , 9,10,11\n",
    "```"
   ]
  },
  {
   "cell_type": "code",
   "execution_count": null,
   "id": "5cbc3e0c",
   "metadata": {},
   "outputs": [],
   "source": []
  },
  {
   "attachments": {},
   "cell_type": "markdown",
   "id": "39be7e3e",
   "metadata": {},
   "source": [
    "#### 55. What is the equivalent of enumerate for numpy arrays? (★★☆)"
   ]
  },
  {
   "cell_type": "code",
   "execution_count": 55,
   "id": "6a535af6",
   "metadata": {},
   "outputs": [
    {
     "name": "stdout",
     "output_type": "stream",
     "text": [
      "(0, 0) 1\n",
      "(0, 1) 2\n",
      "(0, 2) 3\n",
      "(1, 0) 4\n",
      "(1, 1) 5\n",
      "(1, 2) 6\n",
      "(2, 0) 7\n",
      "(2, 1) 8\n",
      "(2, 2) 9\n"
     ]
    }
   ],
   "source": [
    "arr = np.array([[1, 2, 3],\n",
    "                [4, 5, 6],\n",
    "                [7, 8, 9]])\n",
    "for index, value in np.ndenumerate(arr):\n",
    "    print(index, value)"
   ]
  },
  {
   "attachments": {},
   "cell_type": "markdown",
   "id": "d74b1e65",
   "metadata": {},
   "source": [
    "#### 56. Generate a generic 2D Gaussian-like array (★★☆)"
   ]
  },
  {
   "cell_type": "code",
   "execution_count": 56,
   "id": "7a27b196",
   "metadata": {},
   "outputs": [
    {
     "name": "stdout",
     "output_type": "stream",
     "text": [
      "[[0.00193045 0.00594622 0.01426423 0.0266491  0.03877421 0.04393693\n",
      "  0.03877421 0.0266491  0.01426423 0.00594622]\n",
      " [0.00594622 0.01831564 0.04393693 0.082085   0.11943297 0.13533528\n",
      "  0.11943297 0.082085   0.04393693 0.01831564]\n",
      " [0.01426423 0.04393693 0.10539922 0.19691168 0.2865048  0.32465247\n",
      "  0.2865048  0.19691168 0.10539922 0.04393693]\n",
      " [0.0266491  0.082085   0.19691168 0.36787944 0.53526143 0.60653066\n",
      "  0.53526143 0.36787944 0.19691168 0.082085  ]\n",
      " [0.03877421 0.11943297 0.2865048  0.53526143 0.77880078 0.8824969\n",
      "  0.77880078 0.53526143 0.2865048  0.11943297]\n",
      " [0.04393693 0.13533528 0.32465247 0.60653066 0.8824969  1.\n",
      "  0.8824969  0.60653066 0.32465247 0.13533528]\n",
      " [0.03877421 0.11943297 0.2865048  0.53526143 0.77880078 0.8824969\n",
      "  0.77880078 0.53526143 0.2865048  0.11943297]\n",
      " [0.0266491  0.082085   0.19691168 0.36787944 0.53526143 0.60653066\n",
      "  0.53526143 0.36787944 0.19691168 0.082085  ]\n",
      " [0.01426423 0.04393693 0.10539922 0.19691168 0.2865048  0.32465247\n",
      "  0.2865048  0.19691168 0.10539922 0.04393693]\n",
      " [0.00594622 0.01831564 0.04393693 0.082085   0.11943297 0.13533528\n",
      "  0.11943297 0.082085   0.04393693 0.01831564]]\n"
     ]
    }
   ],
   "source": [
    "def gaussian_array(shape, center, sigma):\n",
    "    x, y = np.meshgrid(range(shape[0]), range(shape[1]))\n",
    "    x_center, y_center = center\n",
    "    exponent = -((x - x_center) ** 2 + (y - y_center) ** 2) / (2 * sigma ** 2)\n",
    "    array = np.exp(exponent)\n",
    "    return array\n",
    "\n",
    "shape = (10,10)\n",
    "center = (5,5)\n",
    "sigma = 2\n",
    "\n",
    "gaussian = gaussian_array(shape, center, sigma)\n",
    "print(gaussian)"
   ]
  },
  {
   "attachments": {},
   "cell_type": "markdown",
   "id": "9b6e01e0",
   "metadata": {},
   "source": [
    "#### 57. How to randomly place p elements in a 2D array? (★★☆)"
   ]
  },
  {
   "cell_type": "code",
   "execution_count": 61,
   "id": "3ec61442",
   "metadata": {},
   "outputs": [
    {
     "name": "stdout",
     "output_type": "stream",
     "text": [
      "[[0. 0. 0. 1. 0. 0. 0. 0.]\n",
      " [1. 0. 0. 1. 0. 1. 0. 1.]\n",
      " [1. 0. 0. 0. 0. 0. 0. 0.]\n",
      " [0. 0. 0. 0. 0. 0. 0. 1.]\n",
      " [0. 0. 0. 0. 0. 0. 0. 0.]\n",
      " [0. 0. 1. 1. 0. 0. 0. 1.]\n",
      " [0. 0. 0. 0. 0. 0. 0. 0.]\n",
      " [0. 0. 0. 0. 0. 0. 0. 0.]]\n"
     ]
    }
   ],
   "source": [
    "def place_elements(arr, p, value):\n",
    "    shape = arr.shape\n",
    "    indices = np.random.choice(range(shape[0] * shape[1]), p, replace=False)\n",
    "    indices = np.unravel_index(indices, shape)\n",
    "    arr[indices] = value\n",
    "    return arr\n",
    "\n",
    "shape = (8,8)\n",
    "p = 10\n",
    "value = 1\n",
    "starting_arr = np.zeros(shape)\n",
    "our_new_array = place_elements(starting_arr, p, value)\n",
    "print(our_new_array)"
   ]
  },
  {
   "attachments": {},
   "cell_type": "markdown",
   "id": "3f72a1f3",
   "metadata": {},
   "source": [
    "#### 58. Subtract the mean of each row of a matrix (★★☆)"
   ]
  },
  {
   "cell_type": "code",
   "execution_count": 72,
   "id": "9d30bffe",
   "metadata": {},
   "outputs": [
    {
     "name": "stdout",
     "output_type": "stream",
     "text": [
      "Original matrix:\n",
      " [[ 2  3 10  2]\n",
      " [ 4  3  5  7]\n",
      " [ 8  1  6  5]]\n",
      "Every rows mean:\n",
      " [[4.25]\n",
      " [4.75]\n",
      " [5.  ]]\n",
      "Formated matrix:\n",
      " [[-2.25 -1.25  5.75 -2.25]\n",
      " [-0.75 -1.75  0.25  2.25]\n",
      " [ 3.   -4.    1.    0.  ]]\n"
     ]
    }
   ],
   "source": [
    "def subtract_row_mean(matrix):\n",
    "    row_means = np.mean(matrix, axis=1, keepdims=True)\n",
    "    print(f\"Every rows mean:\\n {row_means}\")\n",
    "    matrix = matrix - row_means\n",
    "    return matrix\n",
    "\n",
    "matrix = np.random.randint(1,11,size=(3,4))\n",
    "print(f\"Original matrix:\\n {matrix}\")\n",
    "result = subtract_row_mean(matrix)\n",
    "print(f\"Formated matrix:\\n {result}\")"
   ]
  },
  {
   "attachments": {},
   "cell_type": "markdown",
   "id": "4bff348f",
   "metadata": {},
   "source": [
    "#### 59. How to sort an array by the nth column? (★★☆)"
   ]
  },
  {
   "cell_type": "code",
   "execution_count": 68,
   "id": "62a3ea72",
   "metadata": {},
   "outputs": [
    {
     "name": "stdout",
     "output_type": "stream",
     "text": [
      "[[3 5 1 6]\n",
      " [1 2 3 4]\n",
      " [4 2 6 2]]\n"
     ]
    }
   ],
   "source": [
    "def sort_by_nth_col(arr,n):\n",
    "    column_to_sort = arr[:,n]\n",
    "    sorted_indices = np.argsort(column_to_sort)\n",
    "    sorted_arr = arr[sorted_indices]\n",
    "    return sorted_arr\n",
    "\n",
    "arr = np.array([[1,2,3,4],\n",
    "                [4,2,6,2],\n",
    "                [3,5,1,6]])\n",
    "\n",
    "sorted_arr = sort_by_nth_col(arr, 2)\n",
    "print(sorted_arr)"
   ]
  },
  {
   "attachments": {},
   "cell_type": "markdown",
   "id": "4e6b7ae7",
   "metadata": {},
   "source": [
    "#### 60. How to tell if a given 2D array has null columns? (★★☆)"
   ]
  },
  {
   "cell_type": "code",
   "execution_count": 73,
   "id": "611bf8da",
   "metadata": {},
   "outputs": [],
   "source": [
    "def has_null_column(arr):\n",
    "    null_col = np.all(arr == 0, axis = 0)\n",
    "    return np.any(null_col)"
   ]
  },
  {
   "attachments": {},
   "cell_type": "markdown",
   "id": "3c50cedc",
   "metadata": {},
   "source": [
    "#### 61. Find the nearest value from a given value in an array (★★☆)"
   ]
  },
  {
   "cell_type": "code",
   "execution_count": 75,
   "id": "8fe3f33c",
   "metadata": {},
   "outputs": [
    {
     "name": "stdout",
     "output_type": "stream",
     "text": [
      "4\n"
     ]
    }
   ],
   "source": [
    "def nearest_value(arr, val):\n",
    "    # find the min diff between all the values of array and the value\n",
    "    index = np.abs(arr-val).argmin()\n",
    "    nearest_val = arr[index]\n",
    "    return nearest_val\n",
    "\n",
    "arr = np.array([1,4,2,6,9,7])\n",
    "target = 3\n",
    "\n",
    "nearest = nearest_value(arr, target)\n",
    "print(nearest)\n"
   ]
  },
  {
   "attachments": {},
   "cell_type": "markdown",
   "id": "2ee07631",
   "metadata": {},
   "source": [
    "#### 62. Considering two arrays with shape (1,3) and (3,1), how to compute their sum using an iterator? (★★☆)"
   ]
  },
  {
   "cell_type": "code",
   "execution_count": 79,
   "id": "3437ea01",
   "metadata": {},
   "outputs": [
    {
     "name": "stdout",
     "output_type": "stream",
     "text": [
      "[[ 5.  6.  8.]\n",
      " [15. 18. 24.]\n",
      " [10. 12. 16.]]\n"
     ]
    }
   ],
   "source": [
    "def compute_sum_with_iterator(A, B):\n",
    "    result = np.zeros((A.shape[0], B.shape[1]))\n",
    "    for i, row in enumerate(A):\n",
    "        for j, col in enumerate(B.T):\n",
    "            result[i,j] = np.sum(row*col)\n",
    "    return  result\n",
    "\n",
    "array1 = np.array([[1],\n",
    "                   [3],\n",
    "                   [2]])\n",
    "array2 = np.array([[5, 6, 8]])\n",
    "\n",
    "result = compute_sum_with_iterator(array1, array2)\n",
    "print(result)\n"
   ]
  },
  {
   "attachments": {},
   "cell_type": "markdown",
   "id": "b9e2434c",
   "metadata": {},
   "source": [
    "#### 63. Create an array class that has a name attribute (★★☆)"
   ]
  },
  {
   "cell_type": "code",
   "execution_count": 80,
   "id": "b19fa769",
   "metadata": {},
   "outputs": [],
   "source": [
    "class NamedArry:\n",
    "    def __init__(self, name, arr):\n",
    "        self.name = name\n",
    "        self.arr = arr"
   ]
  },
  {
   "attachments": {},
   "cell_type": "markdown",
   "id": "c99b4f64",
   "metadata": {},
   "source": [
    "#### 64. Consider a given vector, how to add 1 to each element indexed by a second vector (be careful with repeated indices)? (★★★)"
   ]
  },
  {
   "cell_type": "code",
   "execution_count": null,
   "id": "a2c47762",
   "metadata": {},
   "outputs": [],
   "source": []
  },
  {
   "attachments": {},
   "cell_type": "markdown",
   "id": "c1fd3d5d",
   "metadata": {},
   "source": [
    "#### 65. How to accumulate elements of a vector (X) to an array (F) based on an index list (I)? (★★★)"
   ]
  },
  {
   "cell_type": "code",
   "execution_count": null,
   "id": "35e1ab92",
   "metadata": {},
   "outputs": [],
   "source": []
  },
  {
   "attachments": {},
   "cell_type": "markdown",
   "id": "065b2fdf",
   "metadata": {},
   "source": [
    "#### 65. How to accumulate elements of a vector (X) to an array (F) based on an index list (I)? (★★★)"
   ]
  },
  {
   "cell_type": "code",
   "execution_count": null,
   "id": "2ba376ea",
   "metadata": {},
   "outputs": [],
   "source": []
  },
  {
   "attachments": {},
   "cell_type": "markdown",
   "id": "1e6fb386",
   "metadata": {},
   "source": [
    "#### 67. Considering a four dimensions array, how to get sum over the last two axis at once? (★★★)"
   ]
  },
  {
   "cell_type": "code",
   "execution_count": null,
   "id": "28e8c7c1",
   "metadata": {},
   "outputs": [],
   "source": []
  },
  {
   "attachments": {},
   "cell_type": "markdown",
   "id": "9bf19f71",
   "metadata": {},
   "source": [
    "#### 68. Considering a one-dimensional vector D, how to compute means of subsets of D using a vector S of same size describing subset  indices? (★★★)"
   ]
  },
  {
   "cell_type": "code",
   "execution_count": null,
   "id": "b6398358",
   "metadata": {},
   "outputs": [],
   "source": []
  },
  {
   "attachments": {},
   "cell_type": "markdown",
   "id": "d785b67b",
   "metadata": {},
   "source": [
    "#### 69. How to get the diagonal of a dot product? (★★★)"
   ]
  },
  {
   "cell_type": "code",
   "execution_count": null,
   "id": "5e088435",
   "metadata": {},
   "outputs": [],
   "source": []
  },
  {
   "attachments": {},
   "cell_type": "markdown",
   "id": "c539650e",
   "metadata": {},
   "source": [
    "#### 70. Consider the vector [1, 2, 3, 4, 5], how to build a new vector with 3 consecutive zeros interleaved between each value? (★★★)"
   ]
  },
  {
   "cell_type": "code",
   "execution_count": null,
   "id": "db093059",
   "metadata": {},
   "outputs": [],
   "source": []
  },
  {
   "attachments": {},
   "cell_type": "markdown",
   "id": "95ee4f55",
   "metadata": {},
   "source": [
    "#### 71. Consider an array of dimension (5,5,3), how to mulitply it by an array with dimensions (5,5)? (★★★)"
   ]
  },
  {
   "cell_type": "code",
   "execution_count": null,
   "id": "aa41d0ed",
   "metadata": {},
   "outputs": [],
   "source": []
  },
  {
   "attachments": {},
   "cell_type": "markdown",
   "id": "07bc713e",
   "metadata": {},
   "source": [
    "#### 72. How to swap two rows of an array? (★★★)"
   ]
  },
  {
   "cell_type": "code",
   "execution_count": null,
   "id": "b9a63e49",
   "metadata": {},
   "outputs": [],
   "source": []
  },
  {
   "attachments": {},
   "cell_type": "markdown",
   "id": "b8960590",
   "metadata": {},
   "source": [
    "#### 73. Consider a set of 10 triplets describing 10 triangles (with shared vertices), find the set of unique line segments composing all the  triangles (★★★)"
   ]
  },
  {
   "cell_type": "code",
   "execution_count": null,
   "id": "acfdea7e",
   "metadata": {},
   "outputs": [],
   "source": []
  },
  {
   "attachments": {},
   "cell_type": "markdown",
   "id": "c14075f4",
   "metadata": {},
   "source": [
    "#### 74. Given an array C that is a bincount, how to produce an array A such that np.bincount(A) == C? (★★★)"
   ]
  },
  {
   "cell_type": "code",
   "execution_count": null,
   "id": "540a4288",
   "metadata": {},
   "outputs": [],
   "source": []
  },
  {
   "attachments": {},
   "cell_type": "markdown",
   "id": "0dbb3eda",
   "metadata": {},
   "source": [
    "#### 75. How to compute averages using a sliding window over an array? (★★★)"
   ]
  },
  {
   "cell_type": "code",
   "execution_count": null,
   "id": "7ce345cd",
   "metadata": {},
   "outputs": [],
   "source": []
  },
  {
   "attachments": {},
   "cell_type": "markdown",
   "id": "b0ccc318",
   "metadata": {},
   "source": [
    "#### 76. Consider a one-dimensional array Z, build a two-dimensional array whose first row is (Z[0],Z[1],Z[2]) and each subsequent row is  shifted by 1 (last row should be (Z[-3],Z[-2],Z[-1]) (★★★)"
   ]
  },
  {
   "cell_type": "code",
   "execution_count": null,
   "id": "6b02692a",
   "metadata": {},
   "outputs": [],
   "source": []
  },
  {
   "attachments": {},
   "cell_type": "markdown",
   "id": "7b934eea",
   "metadata": {},
   "source": [
    "#### 77. How to negate a boolean, or to change the sign of a float inplace? (★★★)"
   ]
  },
  {
   "cell_type": "code",
   "execution_count": null,
   "id": "7fe95b7c",
   "metadata": {},
   "outputs": [],
   "source": []
  },
  {
   "attachments": {},
   "cell_type": "markdown",
   "id": "caa5a1f5",
   "metadata": {},
   "source": [
    "#### 78. Consider 2 sets of points P0,P1 describing lines (2d) and a point p, how to compute distance from p to each line i (P0[i],P1[i])? (★★★)"
   ]
  },
  {
   "cell_type": "code",
   "execution_count": null,
   "id": "ab423f4c",
   "metadata": {},
   "outputs": [],
   "source": []
  },
  {
   "attachments": {},
   "cell_type": "markdown",
   "id": "f9058604",
   "metadata": {},
   "source": [
    "#### 79. Consider 2 sets of points P0,P1 describing lines (2d) and a set of points P, how to compute distance from each point j (P[j]) to each line i (P0[i],P1[i])? (★★★)"
   ]
  },
  {
   "cell_type": "code",
   "execution_count": null,
   "id": "9b211aa9",
   "metadata": {},
   "outputs": [],
   "source": []
  },
  {
   "attachments": {},
   "cell_type": "markdown",
   "id": "e2dd680c",
   "metadata": {},
   "source": [
    "#### 80. Consider an arbitrary array, write a function that extract a subpart with a fixed shape and centered on a given element (pad with a `fill` value when necessary) (★★★)"
   ]
  },
  {
   "cell_type": "code",
   "execution_count": null,
   "id": "8e11b579",
   "metadata": {},
   "outputs": [],
   "source": []
  },
  {
   "attachments": {},
   "cell_type": "markdown",
   "id": "36084b2f",
   "metadata": {},
   "source": [
    "#### 81. Consider an array Z = [1,2,3,4,5,6,7,8,9,10,11,12,13,14], how to generate an array R = [[1,2,3,4], [2,3,4,5], [3,4,5,6], ..., [11,12,13,14]]? (★★★)"
   ]
  },
  {
   "cell_type": "code",
   "execution_count": null,
   "id": "7985226d",
   "metadata": {},
   "outputs": [],
   "source": []
  },
  {
   "attachments": {},
   "cell_type": "markdown",
   "id": "0380f0c3",
   "metadata": {},
   "source": [
    "#### 82. Compute a matrix rank (★★★)"
   ]
  },
  {
   "cell_type": "code",
   "execution_count": null,
   "id": "a6f522e8",
   "metadata": {},
   "outputs": [],
   "source": []
  },
  {
   "attachments": {},
   "cell_type": "markdown",
   "id": "b620a60a",
   "metadata": {},
   "source": [
    "#### 83. How to find the most frequent value in an array?"
   ]
  },
  {
   "cell_type": "code",
   "execution_count": null,
   "id": "b0e9bc8e",
   "metadata": {},
   "outputs": [],
   "source": []
  },
  {
   "attachments": {},
   "cell_type": "markdown",
   "id": "1edaca6b",
   "metadata": {},
   "source": [
    "#### 84. Extract all the contiguous 3x3 blocks from a random 10x10 matrix (★★★)"
   ]
  },
  {
   "cell_type": "code",
   "execution_count": null,
   "id": "10ffbf2a",
   "metadata": {},
   "outputs": [],
   "source": []
  },
  {
   "attachments": {},
   "cell_type": "markdown",
   "id": "074f4885",
   "metadata": {},
   "source": [
    "#### 85. Create a 2D array subclass such that Z[i,j] == Z[j,i] (★★★)"
   ]
  },
  {
   "cell_type": "code",
   "execution_count": null,
   "id": "7523cce9",
   "metadata": {},
   "outputs": [],
   "source": []
  },
  {
   "attachments": {},
   "cell_type": "markdown",
   "id": "e2a9417b",
   "metadata": {},
   "source": [
    "#### 86. Consider a set of p matrices wich shape (n,n) and a set of p vectors with shape (n,1). How to compute the sum of of the p matrix products at once? (result has shape (n,1)) (★★★)"
   ]
  },
  {
   "cell_type": "code",
   "execution_count": null,
   "id": "a3e69909",
   "metadata": {},
   "outputs": [],
   "source": []
  },
  {
   "attachments": {},
   "cell_type": "markdown",
   "id": "ff43ce9e",
   "metadata": {},
   "source": [
    "#### 87. Consider a 16x16 array, how to get the block-sum (block size is 4x4)? (★★★)"
   ]
  },
  {
   "cell_type": "code",
   "execution_count": null,
   "id": "4ceb23ac",
   "metadata": {},
   "outputs": [],
   "source": []
  },
  {
   "attachments": {},
   "cell_type": "markdown",
   "id": "81966c2e",
   "metadata": {},
   "source": [
    "#### 88. How to implement the Game of Life using numpy arrays? (★★★)"
   ]
  },
  {
   "cell_type": "code",
   "execution_count": null,
   "id": "f98f3cfe",
   "metadata": {},
   "outputs": [],
   "source": []
  },
  {
   "attachments": {},
   "cell_type": "markdown",
   "id": "624bf327",
   "metadata": {},
   "source": [
    "#### 89. How to get the n largest values of an array (★★★)"
   ]
  },
  {
   "cell_type": "code",
   "execution_count": null,
   "id": "f7f77618",
   "metadata": {},
   "outputs": [],
   "source": []
  },
  {
   "attachments": {},
   "cell_type": "markdown",
   "id": "85e495db",
   "metadata": {},
   "source": [
    "#### 90. Given an arbitrary number of vectors, build the cartesian product (every combinations of every item) (★★★)"
   ]
  },
  {
   "cell_type": "code",
   "execution_count": null,
   "id": "39a21ab1",
   "metadata": {},
   "outputs": [],
   "source": []
  },
  {
   "attachments": {},
   "cell_type": "markdown",
   "id": "75c59902",
   "metadata": {},
   "source": [
    "#### 91. How to create a record array from a regular array? (★★★)"
   ]
  },
  {
   "cell_type": "code",
   "execution_count": null,
   "id": "0432002f",
   "metadata": {},
   "outputs": [],
   "source": []
  },
  {
   "attachments": {},
   "cell_type": "markdown",
   "id": "ebe862a6",
   "metadata": {},
   "source": [
    "#### 92. Consider a large vector Z, compute Z to the power of 3 using 3 different methods (★★★)"
   ]
  },
  {
   "cell_type": "code",
   "execution_count": null,
   "id": "308e208f",
   "metadata": {},
   "outputs": [],
   "source": []
  },
  {
   "attachments": {},
   "cell_type": "markdown",
   "id": "d9a33f54",
   "metadata": {},
   "source": [
    "#### 93. Consider two arrays A and B of shape (8,3) and (2,2). How to find rows of A that contain elements of each row of B regardless of the order of the elements in B? (★★★)"
   ]
  },
  {
   "cell_type": "code",
   "execution_count": null,
   "id": "ddac8eef",
   "metadata": {},
   "outputs": [],
   "source": []
  },
  {
   "attachments": {},
   "cell_type": "markdown",
   "id": "8a738724",
   "metadata": {},
   "source": [
    "#### 94. Considering a 10x3 matrix, extract rows with unequal values (e.g. [2,2,3]) (★★★)"
   ]
  },
  {
   "cell_type": "code",
   "execution_count": null,
   "id": "7308e877",
   "metadata": {},
   "outputs": [],
   "source": []
  },
  {
   "attachments": {},
   "cell_type": "markdown",
   "id": "97c008d5",
   "metadata": {},
   "source": [
    "#### 95. Convert a vector of ints into a matrix binary representation (★★★)"
   ]
  },
  {
   "cell_type": "code",
   "execution_count": null,
   "id": "261c5270",
   "metadata": {},
   "outputs": [],
   "source": []
  },
  {
   "attachments": {},
   "cell_type": "markdown",
   "id": "bae59799",
   "metadata": {},
   "source": [
    "#### 96. Given a two dimensional array, how to extract unique rows? (★★★)"
   ]
  },
  {
   "cell_type": "code",
   "execution_count": null,
   "id": "569914e8",
   "metadata": {},
   "outputs": [],
   "source": []
  },
  {
   "attachments": {},
   "cell_type": "markdown",
   "id": "025e069c",
   "metadata": {},
   "source": [
    "#### 97. Considering 2 vectors A & B, write the einsum equivalent of inner, outer, sum, and mul function (★★★)"
   ]
  },
  {
   "cell_type": "code",
   "execution_count": null,
   "id": "87874f03",
   "metadata": {},
   "outputs": [],
   "source": []
  },
  {
   "attachments": {},
   "cell_type": "markdown",
   "id": "f2772c70",
   "metadata": {},
   "source": [
    "#### 98. Considering a path described by two vectors (X,Y), how to sample it using equidistant samples (★★★)?"
   ]
  },
  {
   "cell_type": "code",
   "execution_count": null,
   "id": "1ec674f8",
   "metadata": {},
   "outputs": [],
   "source": []
  },
  {
   "attachments": {},
   "cell_type": "markdown",
   "id": "b6f2e729",
   "metadata": {},
   "source": [
    "#### 99. Given an integer n and a 2D array X, select from X the rows which can be interpreted as draws from a multinomial distribution with n degrees, i.e., the rows which only contain integers and which sum to n. (★★★)"
   ]
  },
  {
   "cell_type": "code",
   "execution_count": null,
   "id": "c7203653",
   "metadata": {},
   "outputs": [],
   "source": []
  },
  {
   "attachments": {},
   "cell_type": "markdown",
   "id": "5482b20c",
   "metadata": {},
   "source": [
    "#### 100. Compute bootstrapped 95% confidence intervals for the mean of a 1D array X (i.e., resample the elements of an array with replacement N times, compute the mean of each sample, and then compute percentiles over the means). (★★★)"
   ]
  },
  {
   "cell_type": "code",
   "execution_count": null,
   "id": "e7b5e83a",
   "metadata": {},
   "outputs": [],
   "source": []
  }
 ],
 "metadata": {
  "kernelspec": {
   "display_name": "Python 3 (ipykernel)",
   "language": "python",
   "name": "python3"
  },
  "language_info": {
   "codemirror_mode": {
    "name": "ipython",
    "version": 3
   },
   "file_extension": ".py",
   "mimetype": "text/x-python",
   "name": "python",
   "nbconvert_exporter": "python",
   "pygments_lexer": "ipython3",
   "version": "3.10.1"
  }
 },
 "nbformat": 4,
 "nbformat_minor": 5
}
