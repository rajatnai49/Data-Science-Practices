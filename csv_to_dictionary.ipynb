{
 "cells": [
  {
   "cell_type": "markdown",
   "id": "b8b274ef",
   "metadata": {},
   "source": [
    "## Exercise - Processing CSV files using a dictionary of lists\n",
    "\n",
    "We defined the functions `read_csv` and `write_csv` above to convert a CSV file into a list of dictionaries and vice versa. In this exercise, you'll transform the CSV data into a dictionary of lists instead, with one list for each column in the file.\n",
    "\n",
    "For example, consider the following CSV file:\n",
    "\n",
    "```\n",
    "amount,duration,rate,down_payment\n",
    "828400,120,0.11,100000\n",
    "4633400,240,0.06,\n",
    "42900,90,0.08,8900\n",
    "983000,16,0.14,\n",
    "15230,48,0.07,4300\n",
    "```\n",
    "\n",
    "We'll convert it into the following dictionary of lists:\n",
    "\n",
    "```\n",
    "{\n",
    "  amount: [828400, 4633400, 42900, 983000, 15230],\n",
    "  duration: [120, 240, 90, 16, 48],\n",
    "  rate: [0.11, 0.06, 0.08, 0.14, 0.07],\n",
    "  down_payment: [100000, 0, 8900, 0, 4300]\n",
    "}\n",
    "```\n",
    "\n",
    "Complete the following tasks using the empty cells below:\n",
    "\n",
    "1. Download three CSV files to the folder `data2` using the URLs listed in the code cell below, and verify the downloaded files.\n",
    "2. Define a function `read_csv_columnar` that reads a CSV file and returns a dictionary of lists in the format shown above. \n",
    "3. Define a function `compute_emis` that adds another key `emi` into the dictionary with a list of EMIs computed for each row of data.\n",
    "4. Define a function `write_csv_columnar` that writes the data from the dictionary of lists into a correctly formatted CSV file.\n",
    "5. Process all three downloaded files and write the results by creating new files in the directory `data2`.\n",
    "\n",
    "Define helper functions wherever required."
   ]
  },
  {
   "cell_type": "code",
   "execution_count": null,
   "id": "c738f22f",
   "metadata": {},
   "outputs": [],
   "source": []
  }
 ],
 "metadata": {
  "kernelspec": {
   "display_name": "Python 3 (ipykernel)",
   "language": "python",
   "name": "python3"
  },
  "language_info": {
   "codemirror_mode": {
    "name": "ipython",
    "version": 3
   },
   "file_extension": ".py",
   "mimetype": "text/x-python",
   "name": "python",
   "nbconvert_exporter": "python",
   "pygments_lexer": "ipython3",
   "version": "3.10.9"
  }
 },
 "nbformat": 4,
 "nbformat_minor": 5
}
